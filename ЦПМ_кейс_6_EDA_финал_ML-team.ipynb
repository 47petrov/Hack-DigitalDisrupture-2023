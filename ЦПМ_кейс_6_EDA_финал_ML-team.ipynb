{
  "cells": [
    {
      "cell_type": "markdown",
      "metadata": {
        "id": "5m0T7A4pChdE"
      },
      "source": [
        "# **Описание кейса: ИИ оптимизирует производство атомного топлива**\n",
        "\n",
        "Производственные процессы на больших предприятиях - это не только позитивность в отчетах на заседаниях министерства тяжелой промышленности, но и прежде всего работа людьми, с людьми и для людей. Однако это означает довольно высокий процент ошибок вследствие человеческого фактора, а на производстве это может повлечь за собой не только брак продукции, но и человеческие жертвы. Командам предлагается с помощью ИИ оптимизировать алгоритм загрузки и работы прессов и печей в производстве топлива из редких цветных металлов.\n",
        "\n",
        "https://lodmedia.hb.bizmrg.com/cases/1058016/%D0%A0%D0%BE%D1%81%D0%B0%D1%82%D0%BE%D0%BC%20%D0%BC%D0%B5%D0%B6%D0%B4%D1%83%D0%BD%D0%B0%D1%80%D0%BE%D0%B4%D0%BD%D1%8B%D0%B9.pdf\n",
        "\n",
        "**Задача:**\n",
        "\n",
        "Решение задачи представляет собой готовый алгоритм, выдающий результат в виде графика загрузки.\n",
        "\n",
        "**Ограничения на технологии:**\n",
        "\n",
        "Программы и библиотеки с открытым исходным кодом (open source) и общедоступные публичные данные. Используемый стек технологий должен обеспечить автономность решения (возможность использования без сети «Интернет») и поддерживать платформы Windows, Linux.\n",
        "\n",
        "**🛑 Запрещается:**\n",
        "\n",
        "-\tАвтоматизированные средства оценивания точности работы предложенных участниками алгоритмов не применяются.\n",
        "Итоговая оценка определяется как итоговый балл жюри.\n",
        "\n",
        "\n",
        "**⬆️ Куда сабмитить решения:**\n",
        "\n",
        "На платформу хакатона в раздел ХАКАТОН:  https://lk.hacks-ai.ru/969092/hack\n"
      ]
    },
    {
      "cell_type": "markdown",
      "metadata": {
        "id": "4RZ39xMeLgwH"
      },
      "source": [
        "# **Ход решения команды и чек-поинты**\n",
        "\n",
        "**Гуугл-докс**, в котором записываются эксперименты\n",
        "<_____>\n",
        "\n",
        "- **NAME** - понятное короткое название\n",
        "- **ROC-AUC TEST** - желательно на их \"тестовой\" выборке, которая часть трейна, последние 2 недели, так проще сравнивать\n",
        "- **FOR CHECKPOINT** - сюда вписывать соответсвующий чекпойнт, если на него отправляем файл\n",
        "- **LINK** - ссылка на этот файл\n",
        "- **COMMENT** - любые пояснения\n",
        "- **TRACK** - номер трека, с вероятностью - 2й трек, без - 1й\n",
        "\n",
        "**Опциональные поля:**\n",
        "- **config** - вспомогательное поле, куда для удобства можно сохранять конфиги параметро из своего обучения\n",
        "- **ROC-AUC TRAIN** - для понимания оверфита"
      ]
    },
    {
      "cell_type": "markdown",
      "metadata": {
        "id": "tkDHM-hg_Hnb"
      },
      "source": [
        "# **МОИ НОУТБУКИ:**\n",
        "1. на Kaggle\n",
        "2. на Google Colab\n"
      ]
    },
    {
      "cell_type": "markdown",
      "metadata": {
        "id": "l0Xxgjn4txnY"
      },
      "source": [
        "# Установка библиотек:"
      ]
    },
    {
      "cell_type": "code",
      "execution_count": null,
      "metadata": {
        "colab": {
          "base_uri": "https://localhost:8080/"
        },
        "id": "u-pptTEit07G",
        "outputId": "d7c7edeb-29d9-4a8e-e0df-3dd9bfd3791d"
      },
      "outputs": [
        {
          "name": "stdout",
          "output_type": "stream",
          "text": [
            "Requirement already satisfied: gdown in /usr/local/lib/python3.10/dist-packages (4.6.6)\n",
            "Requirement already satisfied: filelock in /usr/local/lib/python3.10/dist-packages (from gdown) (3.12.4)\n",
            "Requirement already satisfied: requests[socks] in /usr/local/lib/python3.10/dist-packages (from gdown) (2.31.0)\n",
            "Requirement already satisfied: six in /usr/local/lib/python3.10/dist-packages (from gdown) (1.16.0)\n",
            "Requirement already satisfied: tqdm in /usr/local/lib/python3.10/dist-packages (from gdown) (4.66.1)\n",
            "Requirement already satisfied: beautifulsoup4 in /usr/local/lib/python3.10/dist-packages (from gdown) (4.11.2)\n",
            "Requirement already satisfied: soupsieve>1.2 in /usr/local/lib/python3.10/dist-packages (from beautifulsoup4->gdown) (2.5)\n",
            "Requirement already satisfied: charset-normalizer<4,>=2 in /usr/local/lib/python3.10/dist-packages (from requests[socks]->gdown) (3.3.0)\n",
            "Requirement already satisfied: idna<4,>=2.5 in /usr/local/lib/python3.10/dist-packages (from requests[socks]->gdown) (3.4)\n",
            "Requirement already satisfied: urllib3<3,>=1.21.1 in /usr/local/lib/python3.10/dist-packages (from requests[socks]->gdown) (2.0.7)\n",
            "Requirement already satisfied: certifi>=2017.4.17 in /usr/local/lib/python3.10/dist-packages (from requests[socks]->gdown) (2023.7.22)\n",
            "Requirement already satisfied: PySocks!=1.5.7,>=1.5.6 in /usr/local/lib/python3.10/dist-packages (from requests[socks]->gdown) (1.7.1)\n"
          ]
        }
      ],
      "source": [
        "!pip install gdown"
      ]
    },
    {
      "cell_type": "markdown",
      "metadata": {
        "id": "1MaV955it1F_"
      },
      "source": [
        "# Импорт библиотек:"
      ]
    },
    {
      "cell_type": "code",
      "execution_count": null,
      "metadata": {
        "id": "t690u4r4pefv"
      },
      "outputs": [],
      "source": [
        "# Импортируем модуль json\n",
        "import json\n",
        "from pandas.io.json import json_normalize\n",
        "\n",
        "# Импортируем функцию pprint()\n",
        "from pprint import pprint"
      ]
    },
    {
      "cell_type": "code",
      "execution_count": null,
      "metadata": {
        "id": "9mkvG6lAt3sU"
      },
      "outputs": [],
      "source": [
        "import datetime as dt\n",
        "import pandas as pd\n",
        "import numpy as np\n",
        "import matplotlib.pyplot as plt\n",
        "import seaborn as sns\n",
        "sns.set_context('notebook',font_scale=1.25)\n",
        "sns.set_theme()\n",
        "import plotly.express as px\n",
        "\n",
        "import zipfile\n",
        "import io\n",
        "\n",
        "import warnings\n",
        "warnings.filterwarnings(\"ignore\")"
      ]
    },
    {
      "cell_type": "code",
      "execution_count": null,
      "metadata": {
        "id": "rO8Xh8M6t30s"
      },
      "outputs": [],
      "source": [
        "from sklearn.model_selection import train_test_split\n",
        "from sklearn.model_selection import cross_val_score\n",
        "from sklearn.model_selection import GridSearchCV, StratifiedShuffleSplit\n",
        "from sklearn.linear_model import LinearRegression, ARDRegression, BayesianRidge\n",
        "from sklearn.ensemble import RandomForestClassifier\n",
        "from sklearn.preprocessing import StandardScaler\n",
        "from sklearn.preprocessing import LabelEncoder\n",
        "\n",
        "from sklearn.svm import SVC\n",
        "from sklearn.metrics import confusion_matrix"
      ]
    },
    {
      "cell_type": "code",
      "execution_count": null,
      "metadata": {
        "colab": {
          "base_uri": "https://localhost:8080/"
        },
        "id": "-8yC3McRt38v",
        "outputId": "331f7d36-b31a-45c0-ae06-ca55684a36b8"
      },
      "outputs": [
        {
          "output_type": "stream",
          "name": "stdout",
          "text": [
            "Numpy version: 1.23.5\n",
            "Pandas version: 1.5.3\n",
            "Seaborn version: 0.12.2\n"
          ]
        }
      ],
      "source": [
        "print(f\"Numpy version: {np.__version__}\")\n",
        "print(f\"Pandas version: {pd.__version__}\")\n",
        "print(f\"Seaborn version: {sns.__version__}\")"
      ]
    },
    {
      "cell_type": "markdown",
      "metadata": {
        "id": "YAeG0MSUSWJm"
      },
      "source": [
        "# ОТКРЫВАЕМ ДАТАСЕТ организаторов:"
      ]
    },
    {
      "cell_type": "code",
      "source": [
        "# Функция для загрузки данных из json-файла:\n",
        "def json_load():\n",
        "\n",
        "  return"
      ],
      "metadata": {
        "id": "0iKFdHjC23XS"
      },
      "execution_count": null,
      "outputs": []
    },
    {
      "cell_type": "code",
      "execution_count": null,
      "metadata": {
        "id": "KKmBr9rxpyiE"
      },
      "outputs": [],
      "source": [
        "# Открываем файл 'day-0.json' и связываем его с объектом \"f\"\n",
        "with open('day-0.json') as f:\n",
        "    # Загружаем содержимое открытого файла в переменную day_0\n",
        "    day_0 = json.load(f)\n",
        "\n",
        "df_0 = json_normalize(day_0)\n",
        "df_0.head()\n",
        "\n",
        "# Создаём объект DataFrame из списка day_0.json\n",
        "df_0_ovens = pd.DataFrame(day_0['ovens'])\n",
        "df_0_series = pd.DataFrame(day_0['series'])"
      ]
    },
    {
      "cell_type": "code",
      "source": [
        "# Открываем файл 'day-1.json' и связываем его с объектом \"f\"\n",
        "with open('day-1.json') as f:\n",
        "    # Загружаем содержимое открытого файла в переменную day_1\n",
        "    day_1 = json.load(f)\n",
        "\n",
        "df_1 = json_normalize(day_1)\n",
        "df_1.head()\n",
        "\n",
        "# Создаём объект DataFrame из списка day_1.json\n",
        "df_1_ovens = pd.DataFrame(day_1['ovens'])\n",
        "df_1_series = pd.DataFrame(day_1['series'])"
      ],
      "metadata": {
        "id": "uceobR7k0pjY"
      },
      "execution_count": null,
      "outputs": []
    },
    {
      "cell_type": "code",
      "source": [
        "# Открываем файл 'day-2.json' и связываем его с объектом \"f\"\n",
        "with open('day-2.json') as f:\n",
        "    # Загружаем содержимое открытого файла в переменную day_2\n",
        "    day_2 = json.load(f)\n",
        "\n",
        "df_2 = json_normalize(day_2)\n",
        "df_2.head()\n",
        "\n",
        "# Создаём объект DataFrame из списка day_2.json\n",
        "df_2_ovens = pd.DataFrame(day_2['ovens'])\n",
        "df_2_series = pd.DataFrame(day_2['series'])"
      ],
      "metadata": {
        "id": "_iXZ8VBo3hu2"
      },
      "execution_count": null,
      "outputs": []
    },
    {
      "cell_type": "code",
      "source": [
        "# Открываем файл 'day-3.json' и связываем его с объектом \"f\"\n",
        "with open('day-3.json') as f:\n",
        "    # Загружаем содержимое открытого файла в переменную day_3\n",
        "    day_3 = json.load(f)\n",
        "\n",
        "df_3 = json_normalize(day_3)\n",
        "df_3.head()\n",
        "\n",
        "# Создаём объект DataFrame из списка day_3.json\n",
        "df_3_ovens = pd.DataFrame(day_3['ovens'])\n",
        "df_3_series = pd.DataFrame(day_3['series'])"
      ],
      "metadata": {
        "id": "4iariBEw3idP"
      },
      "execution_count": null,
      "outputs": []
    },
    {
      "cell_type": "code",
      "source": [
        "# Открываем файл 'day-4.json' и связываем его с объектом \"f\"\n",
        "with open('day-4.json') as f:\n",
        "    # Загружаем содержимое открытого файла в переменную day-4\n",
        "    day_4 = json.load(f)\n",
        "\n",
        "df_4 = json_normalize(day_4)\n",
        "df_4.head()\n",
        "\n",
        "# Создаём объект DataFrame из списка day_4.json\n",
        "df_4_ovens = pd.DataFrame(day_4['ovens'])\n",
        "df_4_series = pd.DataFrame(day_4['series'])"
      ],
      "metadata": {
        "id": "fRpMy9Oj3ipw"
      },
      "execution_count": null,
      "outputs": []
    },
    {
      "cell_type": "code",
      "source": [
        "# Открываем файл 'day-5.json' и связываем его с объектом \"f\"\n",
        "with open('day-5.json') as f:\n",
        "    # Загружаем содержимое открытого файла в переменную day-5\n",
        "    day_5 = json.load(f)\n",
        "\n",
        "df_5 = json_normalize(day_5)\n",
        "df_5.head()\n",
        "\n",
        "# Создаём объект DataFrame из списка day_5.json\n",
        "df_5_ovens = pd.DataFrame(day_5['ovens'])\n",
        "df_5_series = pd.DataFrame(day_5['series'])"
      ],
      "metadata": {
        "id": "CzTrL4l33i67"
      },
      "execution_count": null,
      "outputs": []
    },
    {
      "cell_type": "code",
      "source": [
        "# Открываем файл 'day-6.json' и связываем его с объектом \"f\"\n",
        "with open('day-6.json') as f:\n",
        "    # Загружаем содержимое открытого файла в переменную day-6\n",
        "    day_6 = json.load(f)\n",
        "\n",
        "df_6 = json_normalize(day_6)\n",
        "df_6.head()\n",
        "\n",
        "# Создаём объект DataFrame из списка day_5.json\n",
        "df_6_ovens = pd.DataFrame(day_6['ovens'])\n",
        "df_6_series = pd.DataFrame(day_6['series'])"
      ],
      "metadata": {
        "id": "A9aLj-fh4MVA"
      },
      "execution_count": null,
      "outputs": []
    },
    {
      "cell_type": "code",
      "execution_count": null,
      "metadata": {
        "colab": {
          "base_uri": "https://localhost:8080/"
        },
        "id": "PJVaJUJDp7vm",
        "outputId": "794628f9-5402-4565-aaeb-bc17cbaf8852"
      },
      "outputs": [
        {
          "output_type": "stream",
          "name": "stdout",
          "text": [
            "Количество подходов к печям и серий для ДЕНЬ-0:  422 2594 Количество печей на участке:  6.15\n",
            "Количество подходов к печям и серий для ДЕНЬ-1:  467 1697 Количество печей на участке:  3.63\n",
            "Количество подходов к печям и серий для ДЕНЬ-2:  224 2729 Количество печей на участке:  12.18\n",
            "Количество подходов к печям и серий для ДЕНЬ-3:  266 1679 Количество печей на участке:  6.31\n",
            "Количество подходов к печям и серий для ДЕНЬ-4:  294 2299 Количество печей на участке:  7.82\n",
            "Количество подходов к печям и серий для ДЕНЬ-5:  393 2698 Количество печей на участке:  6.87\n",
            "Количество подходов к печям и серий для ДЕНЬ-6:  287 2836 Количество печей на участке:  9.88\n"
          ]
        }
      ],
      "source": [
        "# Определяем количество печей и серий (заготовок):\n",
        "print('Количество подходов к печям и серий для ДЕНЬ-0: ', len(df_0_ovens), len(df_0_series),\n",
        "      'Количество печей на участке: ', round(len(df_0_series)/len(df_0_ovens),2))\n",
        "print('Количество подходов к печям и серий для ДЕНЬ-1: ', len(df_1_ovens), len(df_1_series),\n",
        "      'Количество печей на участке: ', round(len(df_1_series)/len(df_1_ovens),2))\n",
        "\n",
        "print('Количество подходов к печям и серий для ДЕНЬ-2: ', len(df_2_ovens), len(df_2_series),\n",
        "      'Количество печей на участке: ', round(len(df_2_series)/len(df_2_ovens),2))\n",
        "print('Количество подходов к печям и серий для ДЕНЬ-3: ', len(df_3_ovens), len(df_3_series),\n",
        "      'Количество печей на участке: ', round(len(df_3_series)/len(df_3_ovens),2))\n",
        "print('Количество подходов к печям и серий для ДЕНЬ-4: ', len(df_4_ovens), len(df_4_series),\n",
        "      'Количество печей на участке: ', round(len(df_4_series)/len(df_4_ovens),2))\n",
        "print('Количество подходов к печям и серий для ДЕНЬ-5: ', len(df_5_ovens), len(df_5_series),\n",
        "      'Количество печей на участке: ', round(len(df_5_series)/len(df_5_ovens),2))\n",
        "print('Количество подходов к печям и серий для ДЕНЬ-6: ', len(df_6_ovens), len(df_6_series),\n",
        "      'Количество печей на участке: ', round(len(df_6_series)/len(df_6_ovens),2))"
      ]
    },
    {
      "cell_type": "code",
      "source": [
        "# Определяем количество уникальных операций для ДЕНЬ-0:\n",
        "df_0_ovens['operations'].value_counts()"
      ],
      "metadata": {
        "colab": {
          "base_uri": "https://localhost:8080/"
        },
        "id": "ZAXoNUYzuioR",
        "outputId": "3ce459d1-a6a9-40d9-ef09-e5fda3a81d5b"
      },
      "execution_count": null,
      "outputs": [
        {
          "output_type": "execute_result",
          "data": {
            "text/plain": [
              "[kovka]             75\n",
              "[otzhig]            68\n",
              "[prokat]            64\n",
              "[otzhig, kovka]     40\n",
              "[prokat, otzhig]    33\n",
              "[otzhig, prokat]    30\n",
              "[prokat, kovka]     27\n",
              "[kovka, otzhig]     25\n",
              "[kovka, prokat]     22\n",
              "[otzhig, otzhig]    14\n",
              "[kovka, kovka]      13\n",
              "[prokat, prokat]    11\n",
              "Name: operations, dtype: int64"
            ]
          },
          "metadata": {},
          "execution_count": 49
        }
      ]
    },
    {
      "cell_type": "code",
      "source": [
        "# Определяем количество уникальных операций для ДЕНЬ-1:\n",
        "df_1_ovens['operations'].value_counts()"
      ],
      "metadata": {
        "colab": {
          "base_uri": "https://localhost:8080/"
        },
        "id": "zLqSoCuuzPKV",
        "outputId": "d482dba4-3afd-481d-e38d-b2a3be7af964"
      },
      "execution_count": null,
      "outputs": [
        {
          "output_type": "execute_result",
          "data": {
            "text/plain": [
              "[kovka]             79\n",
              "[otzhig]            72\n",
              "[prokat]            71\n",
              "[otzhig, kovka]     45\n",
              "[prokat, otzhig]    36\n",
              "[otzhig, prokat]    33\n",
              "[prokat, kovka]     32\n",
              "[kovka, otzhig]     29\n",
              "[kovka, prokat]     25\n",
              "[otzhig, otzhig]    17\n",
              "[kovka, kovka]      16\n",
              "[prokat, prokat]    12\n",
              "Name: operations, dtype: int64"
            ]
          },
          "metadata": {},
          "execution_count": 50
        }
      ]
    },
    {
      "cell_type": "code",
      "source": [
        "# Определяем количество уникальных операций для ДЕНЬ-2:\n",
        "print(df_2_ovens['operations'].value_counts())\n",
        "print('количество уникальных операций: ', len(df_2_ovens['operations'].value_counts()))"
      ],
      "metadata": {
        "colab": {
          "base_uri": "https://localhost:8080/"
        },
        "id": "zLV8sZ5zzPN0",
        "outputId": "8ad207e4-e5d1-4466-905d-146c7b47a14b"
      },
      "execution_count": null,
      "outputs": [
        {
          "output_type": "stream",
          "name": "stdout",
          "text": [
            "[kovka]             43\n",
            "[otzhig]            39\n",
            "[prokat]            28\n",
            "[otzhig, kovka]     23\n",
            "[prokat, otzhig]    19\n",
            "[prokat, kovka]     18\n",
            "[otzhig, prokat]    13\n",
            "[kovka, prokat]     11\n",
            "[kovka, otzhig]     10\n",
            "[otzhig, otzhig]     7\n",
            "[kovka, kovka]       7\n",
            "[prokat, prokat]     6\n",
            "Name: operations, dtype: int64\n",
            "количество уникальных операций:  12\n"
          ]
        }
      ]
    },
    {
      "cell_type": "code",
      "source": [
        "# Определяем количество уникальных операций для ДЕНЬ-3:\n",
        "print(df_3_ovens['operations'].value_counts())\n",
        "print('количество уникальных операций: ', len(df_3_ovens['operations'].value_counts()))"
      ],
      "metadata": {
        "colab": {
          "base_uri": "https://localhost:8080/"
        },
        "id": "yz6W9XdrzPSe",
        "outputId": "578c3785-10c0-4713-8f18-e69f23416dc7"
      },
      "execution_count": null,
      "outputs": [
        {
          "output_type": "stream",
          "name": "stdout",
          "text": [
            "[kovka]             48\n",
            "[otzhig]            44\n",
            "[prokat]            42\n",
            "[otzhig, kovka]     26\n",
            "[prokat, kovka]     20\n",
            "[prokat, otzhig]    20\n",
            "[otzhig, prokat]    17\n",
            "[kovka, prokat]     13\n",
            "[kovka, otzhig]     12\n",
            "[kovka, kovka]      11\n",
            "[otzhig, otzhig]     7\n",
            "[prokat, prokat]     6\n",
            "Name: operations, dtype: int64\n",
            "количество уникальных операций:  12\n"
          ]
        }
      ]
    },
    {
      "cell_type": "code",
      "source": [
        "# Определяем количество уникальных операций для ДЕНЬ-4:\n",
        "print(df_4_ovens['operations'].value_counts())\n",
        "print('количество уникальных операций: ', len(df_4_ovens['operations'].value_counts()))"
      ],
      "metadata": {
        "colab": {
          "base_uri": "https://localhost:8080/"
        },
        "id": "2KJm1rxmzPXH",
        "outputId": "3c5397c6-4f3c-4ad7-ec19-d516d8439519"
      },
      "execution_count": null,
      "outputs": [
        {
          "output_type": "stream",
          "name": "stdout",
          "text": [
            "[otzhig]            50\n",
            "[kovka]             50\n",
            "[prokat]            46\n",
            "[otzhig, kovka]     27\n",
            "[prokat, otzhig]    24\n",
            "[prokat, kovka]     22\n",
            "[otzhig, prokat]    20\n",
            "[kovka, prokat]     15\n",
            "[kovka, otzhig]     14\n",
            "[kovka, kovka]      11\n",
            "[otzhig, otzhig]     8\n",
            "[prokat, prokat]     7\n",
            "Name: operations, dtype: int64\n",
            "количество уникальных операций:  12\n"
          ]
        }
      ]
    },
    {
      "cell_type": "code",
      "source": [
        "# Определяем количество уникальных операций для ДЕНЬ-3:\n",
        "print(df_5_ovens['operations'].value_counts())\n",
        "print('количество уникальных операций: ', len(df_5_ovens['operations'].value_counts()))"
      ],
      "metadata": {
        "colab": {
          "base_uri": "https://localhost:8080/"
        },
        "id": "QDgRPZPy5a7j",
        "outputId": "1c9f283c-dcaf-4043-f11a-428aa7328605"
      },
      "execution_count": null,
      "outputs": [
        {
          "output_type": "stream",
          "name": "stdout",
          "text": [
            "[kovka]             67\n",
            "[otzhig]            65\n",
            "[prokat]            60\n",
            "[otzhig, kovka]     37\n",
            "[prokat, otzhig]    32\n",
            "[prokat, kovka]     26\n",
            "[otzhig, prokat]    25\n",
            "[kovka, otzhig]     22\n",
            "[kovka, prokat]     22\n",
            "[otzhig, otzhig]    15\n",
            "[kovka, kovka]      13\n",
            "[prokat, prokat]     9\n",
            "Name: operations, dtype: int64\n",
            "количество уникальных операций:  12\n"
          ]
        }
      ]
    },
    {
      "cell_type": "code",
      "source": [
        "# Определяем количество уникальных операций для ДЕНЬ-3:\n",
        "print(df_6_ovens['operations'].value_counts())\n",
        "print('количество уникальных операций: ', len(df_6_ovens['operations'].value_counts()))"
      ],
      "metadata": {
        "colab": {
          "base_uri": "https://localhost:8080/"
        },
        "id": "suVX_5jU5cOq",
        "outputId": "b53e1dc5-5005-4349-aea1-f09044615eee"
      },
      "execution_count": null,
      "outputs": [
        {
          "output_type": "stream",
          "name": "stdout",
          "text": [
            "[otzhig]            49\n",
            "[kovka]             48\n",
            "[prokat]            44\n",
            "[otzhig, kovka]     27\n",
            "[prokat, otzhig]    24\n",
            "[prokat, kovka]     23\n",
            "[otzhig, prokat]    19\n",
            "[kovka, otzhig]     14\n",
            "[kovka, prokat]     14\n",
            "[kovka, kovka]      10\n",
            "[otzhig, otzhig]     8\n",
            "[prokat, prokat]     7\n",
            "Name: operations, dtype: int64\n",
            "количество уникальных операций:  12\n"
          ]
        }
      ]
    },
    {
      "cell_type": "code",
      "source": [
        "# Смотрим на возможные сочетания температуры для печи в ДЕНЬ-0: старт и рабочая:\n",
        "\n",
        "df_0_ovens.head()"
      ],
      "metadata": {
        "colab": {
          "base_uri": "https://localhost:8080/",
          "height": 206
        },
        "id": "QncGjiuO5cYy",
        "outputId": "64298416-d261-4162-d5f0-b35ec546078e"
      },
      "execution_count": null,
      "outputs": [
        {
          "output_type": "execute_result",
          "data": {
            "text/plain": [
              "   start_temp                                      working_temps  \\\n",
              "0        1220  [960, 1030, 1190, 1100, 1230, 1070, 1110, 1080...   \n",
              "1         990                       [980, 1190, 1030, 1100, 990]   \n",
              "2        1220                                  [970, 1060, 1220]   \n",
              "3        1020               [1060, 1100, 1140, 1240, 1150, 1020]   \n",
              "4        1020            [970, 1100, 1070, 980, 1180, 990, 1020]   \n",
              "\n",
              "        operations  \n",
              "0  [prokat, kovka]  \n",
              "1  [otzhig, kovka]  \n",
              "2         [otzhig]  \n",
              "3          [kovka]  \n",
              "4         [otzhig]  "
            ],
            "text/html": [
              "\n",
              "  <div id=\"df-3da347ac-4df9-4a1f-a4ab-33da16398c40\" class=\"colab-df-container\">\n",
              "    <div>\n",
              "<style scoped>\n",
              "    .dataframe tbody tr th:only-of-type {\n",
              "        vertical-align: middle;\n",
              "    }\n",
              "\n",
              "    .dataframe tbody tr th {\n",
              "        vertical-align: top;\n",
              "    }\n",
              "\n",
              "    .dataframe thead th {\n",
              "        text-align: right;\n",
              "    }\n",
              "</style>\n",
              "<table border=\"1\" class=\"dataframe\">\n",
              "  <thead>\n",
              "    <tr style=\"text-align: right;\">\n",
              "      <th></th>\n",
              "      <th>start_temp</th>\n",
              "      <th>working_temps</th>\n",
              "      <th>operations</th>\n",
              "    </tr>\n",
              "  </thead>\n",
              "  <tbody>\n",
              "    <tr>\n",
              "      <th>0</th>\n",
              "      <td>1220</td>\n",
              "      <td>[960, 1030, 1190, 1100, 1230, 1070, 1110, 1080...</td>\n",
              "      <td>[prokat, kovka]</td>\n",
              "    </tr>\n",
              "    <tr>\n",
              "      <th>1</th>\n",
              "      <td>990</td>\n",
              "      <td>[980, 1190, 1030, 1100, 990]</td>\n",
              "      <td>[otzhig, kovka]</td>\n",
              "    </tr>\n",
              "    <tr>\n",
              "      <th>2</th>\n",
              "      <td>1220</td>\n",
              "      <td>[970, 1060, 1220]</td>\n",
              "      <td>[otzhig]</td>\n",
              "    </tr>\n",
              "    <tr>\n",
              "      <th>3</th>\n",
              "      <td>1020</td>\n",
              "      <td>[1060, 1100, 1140, 1240, 1150, 1020]</td>\n",
              "      <td>[kovka]</td>\n",
              "    </tr>\n",
              "    <tr>\n",
              "      <th>4</th>\n",
              "      <td>1020</td>\n",
              "      <td>[970, 1100, 1070, 980, 1180, 990, 1020]</td>\n",
              "      <td>[otzhig]</td>\n",
              "    </tr>\n",
              "  </tbody>\n",
              "</table>\n",
              "</div>\n",
              "    <div class=\"colab-df-buttons\">\n",
              "\n",
              "  <div class=\"colab-df-container\">\n",
              "    <button class=\"colab-df-convert\" onclick=\"convertToInteractive('df-3da347ac-4df9-4a1f-a4ab-33da16398c40')\"\n",
              "            title=\"Convert this dataframe to an interactive table.\"\n",
              "            style=\"display:none;\">\n",
              "\n",
              "  <svg xmlns=\"http://www.w3.org/2000/svg\" height=\"24px\" viewBox=\"0 -960 960 960\">\n",
              "    <path d=\"M120-120v-720h720v720H120Zm60-500h600v-160H180v160Zm220 220h160v-160H400v160Zm0 220h160v-160H400v160ZM180-400h160v-160H180v160Zm440 0h160v-160H620v160ZM180-180h160v-160H180v160Zm440 0h160v-160H620v160Z\"/>\n",
              "  </svg>\n",
              "    </button>\n",
              "\n",
              "  <style>\n",
              "    .colab-df-container {\n",
              "      display:flex;\n",
              "      gap: 12px;\n",
              "    }\n",
              "\n",
              "    .colab-df-convert {\n",
              "      background-color: #E8F0FE;\n",
              "      border: none;\n",
              "      border-radius: 50%;\n",
              "      cursor: pointer;\n",
              "      display: none;\n",
              "      fill: #1967D2;\n",
              "      height: 32px;\n",
              "      padding: 0 0 0 0;\n",
              "      width: 32px;\n",
              "    }\n",
              "\n",
              "    .colab-df-convert:hover {\n",
              "      background-color: #E2EBFA;\n",
              "      box-shadow: 0px 1px 2px rgba(60, 64, 67, 0.3), 0px 1px 3px 1px rgba(60, 64, 67, 0.15);\n",
              "      fill: #174EA6;\n",
              "    }\n",
              "\n",
              "    .colab-df-buttons div {\n",
              "      margin-bottom: 4px;\n",
              "    }\n",
              "\n",
              "    [theme=dark] .colab-df-convert {\n",
              "      background-color: #3B4455;\n",
              "      fill: #D2E3FC;\n",
              "    }\n",
              "\n",
              "    [theme=dark] .colab-df-convert:hover {\n",
              "      background-color: #434B5C;\n",
              "      box-shadow: 0px 1px 3px 1px rgba(0, 0, 0, 0.15);\n",
              "      filter: drop-shadow(0px 1px 2px rgba(0, 0, 0, 0.3));\n",
              "      fill: #FFFFFF;\n",
              "    }\n",
              "  </style>\n",
              "\n",
              "    <script>\n",
              "      const buttonEl =\n",
              "        document.querySelector('#df-3da347ac-4df9-4a1f-a4ab-33da16398c40 button.colab-df-convert');\n",
              "      buttonEl.style.display =\n",
              "        google.colab.kernel.accessAllowed ? 'block' : 'none';\n",
              "\n",
              "      async function convertToInteractive(key) {\n",
              "        const element = document.querySelector('#df-3da347ac-4df9-4a1f-a4ab-33da16398c40');\n",
              "        const dataTable =\n",
              "          await google.colab.kernel.invokeFunction('convertToInteractive',\n",
              "                                                    [key], {});\n",
              "        if (!dataTable) return;\n",
              "\n",
              "        const docLinkHtml = 'Like what you see? Visit the ' +\n",
              "          '<a target=\"_blank\" href=https://colab.research.google.com/notebooks/data_table.ipynb>data table notebook</a>'\n",
              "          + ' to learn more about interactive tables.';\n",
              "        element.innerHTML = '';\n",
              "        dataTable['output_type'] = 'display_data';\n",
              "        await google.colab.output.renderOutput(dataTable, element);\n",
              "        const docLink = document.createElement('div');\n",
              "        docLink.innerHTML = docLinkHtml;\n",
              "        element.appendChild(docLink);\n",
              "      }\n",
              "    </script>\n",
              "  </div>\n",
              "\n",
              "\n",
              "<div id=\"df-f8daacf6-b768-429f-ab20-367a1de6e190\">\n",
              "  <button class=\"colab-df-quickchart\" onclick=\"quickchart('df-f8daacf6-b768-429f-ab20-367a1de6e190')\"\n",
              "            title=\"Suggest charts\"\n",
              "            style=\"display:none;\">\n",
              "\n",
              "<svg xmlns=\"http://www.w3.org/2000/svg\" height=\"24px\"viewBox=\"0 0 24 24\"\n",
              "     width=\"24px\">\n",
              "    <g>\n",
              "        <path d=\"M19 3H5c-1.1 0-2 .9-2 2v14c0 1.1.9 2 2 2h14c1.1 0 2-.9 2-2V5c0-1.1-.9-2-2-2zM9 17H7v-7h2v7zm4 0h-2V7h2v10zm4 0h-2v-4h2v4z\"/>\n",
              "    </g>\n",
              "</svg>\n",
              "  </button>\n",
              "\n",
              "<style>\n",
              "  .colab-df-quickchart {\n",
              "      --bg-color: #E8F0FE;\n",
              "      --fill-color: #1967D2;\n",
              "      --hover-bg-color: #E2EBFA;\n",
              "      --hover-fill-color: #174EA6;\n",
              "      --disabled-fill-color: #AAA;\n",
              "      --disabled-bg-color: #DDD;\n",
              "  }\n",
              "\n",
              "  [theme=dark] .colab-df-quickchart {\n",
              "      --bg-color: #3B4455;\n",
              "      --fill-color: #D2E3FC;\n",
              "      --hover-bg-color: #434B5C;\n",
              "      --hover-fill-color: #FFFFFF;\n",
              "      --disabled-bg-color: #3B4455;\n",
              "      --disabled-fill-color: #666;\n",
              "  }\n",
              "\n",
              "  .colab-df-quickchart {\n",
              "    background-color: var(--bg-color);\n",
              "    border: none;\n",
              "    border-radius: 50%;\n",
              "    cursor: pointer;\n",
              "    display: none;\n",
              "    fill: var(--fill-color);\n",
              "    height: 32px;\n",
              "    padding: 0;\n",
              "    width: 32px;\n",
              "  }\n",
              "\n",
              "  .colab-df-quickchart:hover {\n",
              "    background-color: var(--hover-bg-color);\n",
              "    box-shadow: 0 1px 2px rgba(60, 64, 67, 0.3), 0 1px 3px 1px rgba(60, 64, 67, 0.15);\n",
              "    fill: var(--button-hover-fill-color);\n",
              "  }\n",
              "\n",
              "  .colab-df-quickchart-complete:disabled,\n",
              "  .colab-df-quickchart-complete:disabled:hover {\n",
              "    background-color: var(--disabled-bg-color);\n",
              "    fill: var(--disabled-fill-color);\n",
              "    box-shadow: none;\n",
              "  }\n",
              "\n",
              "  .colab-df-spinner {\n",
              "    border: 2px solid var(--fill-color);\n",
              "    border-color: transparent;\n",
              "    border-bottom-color: var(--fill-color);\n",
              "    animation:\n",
              "      spin 1s steps(1) infinite;\n",
              "  }\n",
              "\n",
              "  @keyframes spin {\n",
              "    0% {\n",
              "      border-color: transparent;\n",
              "      border-bottom-color: var(--fill-color);\n",
              "      border-left-color: var(--fill-color);\n",
              "    }\n",
              "    20% {\n",
              "      border-color: transparent;\n",
              "      border-left-color: var(--fill-color);\n",
              "      border-top-color: var(--fill-color);\n",
              "    }\n",
              "    30% {\n",
              "      border-color: transparent;\n",
              "      border-left-color: var(--fill-color);\n",
              "      border-top-color: var(--fill-color);\n",
              "      border-right-color: var(--fill-color);\n",
              "    }\n",
              "    40% {\n",
              "      border-color: transparent;\n",
              "      border-right-color: var(--fill-color);\n",
              "      border-top-color: var(--fill-color);\n",
              "    }\n",
              "    60% {\n",
              "      border-color: transparent;\n",
              "      border-right-color: var(--fill-color);\n",
              "    }\n",
              "    80% {\n",
              "      border-color: transparent;\n",
              "      border-right-color: var(--fill-color);\n",
              "      border-bottom-color: var(--fill-color);\n",
              "    }\n",
              "    90% {\n",
              "      border-color: transparent;\n",
              "      border-bottom-color: var(--fill-color);\n",
              "    }\n",
              "  }\n",
              "</style>\n",
              "\n",
              "  <script>\n",
              "    async function quickchart(key) {\n",
              "      const quickchartButtonEl =\n",
              "        document.querySelector('#' + key + ' button');\n",
              "      quickchartButtonEl.disabled = true;  // To prevent multiple clicks.\n",
              "      quickchartButtonEl.classList.add('colab-df-spinner');\n",
              "      try {\n",
              "        const charts = await google.colab.kernel.invokeFunction(\n",
              "            'suggestCharts', [key], {});\n",
              "      } catch (error) {\n",
              "        console.error('Error during call to suggestCharts:', error);\n",
              "      }\n",
              "      quickchartButtonEl.classList.remove('colab-df-spinner');\n",
              "      quickchartButtonEl.classList.add('colab-df-quickchart-complete');\n",
              "    }\n",
              "    (() => {\n",
              "      let quickchartButtonEl =\n",
              "        document.querySelector('#df-f8daacf6-b768-429f-ab20-367a1de6e190 button');\n",
              "      quickchartButtonEl.style.display =\n",
              "        google.colab.kernel.accessAllowed ? 'block' : 'none';\n",
              "    })();\n",
              "  </script>\n",
              "</div>\n",
              "    </div>\n",
              "  </div>\n"
            ]
          },
          "metadata": {},
          "execution_count": 59
        }
      ]
    },
    {
      "cell_type": "code",
      "source": [
        "# Смотрим на возможные сочетания температуры/времени для операции в ДЕНЬ-0:\n",
        "\n",
        "df_0_series.head()"
      ],
      "metadata": {
        "colab": {
          "base_uri": "https://localhost:8080/",
          "height": 206
        },
        "id": "PIJFYToe72JA",
        "outputId": "288d0e70-eb7e-4745-b907-ebfd1825b2c7"
      },
      "execution_count": null,
      "outputs": [
        {
          "output_type": "execute_result",
          "data": {
            "text/plain": [
              "   temperature                                         operations\n",
              "0         1080  [{'name': 'nagrev', 'timing': 245}, {'name': '...\n",
              "1          970  [{'name': 'nagrev', 'timing': 62}, {'name': 'o...\n",
              "2         1080  [{'name': 'nagrev', 'timing': 76}, {'name': 'k...\n",
              "3          980  [{'name': 'nagrev', 'timing': 96}, {'name': 'o...\n",
              "4          980  [{'name': 'nagrev', 'timing': 82}, {'name': 'p..."
            ],
            "text/html": [
              "\n",
              "  <div id=\"df-e752e5c3-a848-4acf-803d-84f25fa8a994\" class=\"colab-df-container\">\n",
              "    <div>\n",
              "<style scoped>\n",
              "    .dataframe tbody tr th:only-of-type {\n",
              "        vertical-align: middle;\n",
              "    }\n",
              "\n",
              "    .dataframe tbody tr th {\n",
              "        vertical-align: top;\n",
              "    }\n",
              "\n",
              "    .dataframe thead th {\n",
              "        text-align: right;\n",
              "    }\n",
              "</style>\n",
              "<table border=\"1\" class=\"dataframe\">\n",
              "  <thead>\n",
              "    <tr style=\"text-align: right;\">\n",
              "      <th></th>\n",
              "      <th>temperature</th>\n",
              "      <th>operations</th>\n",
              "    </tr>\n",
              "  </thead>\n",
              "  <tbody>\n",
              "    <tr>\n",
              "      <th>0</th>\n",
              "      <td>1080</td>\n",
              "      <td>[{'name': 'nagrev', 'timing': 245}, {'name': '...</td>\n",
              "    </tr>\n",
              "    <tr>\n",
              "      <th>1</th>\n",
              "      <td>970</td>\n",
              "      <td>[{'name': 'nagrev', 'timing': 62}, {'name': 'o...</td>\n",
              "    </tr>\n",
              "    <tr>\n",
              "      <th>2</th>\n",
              "      <td>1080</td>\n",
              "      <td>[{'name': 'nagrev', 'timing': 76}, {'name': 'k...</td>\n",
              "    </tr>\n",
              "    <tr>\n",
              "      <th>3</th>\n",
              "      <td>980</td>\n",
              "      <td>[{'name': 'nagrev', 'timing': 96}, {'name': 'o...</td>\n",
              "    </tr>\n",
              "    <tr>\n",
              "      <th>4</th>\n",
              "      <td>980</td>\n",
              "      <td>[{'name': 'nagrev', 'timing': 82}, {'name': 'p...</td>\n",
              "    </tr>\n",
              "  </tbody>\n",
              "</table>\n",
              "</div>\n",
              "    <div class=\"colab-df-buttons\">\n",
              "\n",
              "  <div class=\"colab-df-container\">\n",
              "    <button class=\"colab-df-convert\" onclick=\"convertToInteractive('df-e752e5c3-a848-4acf-803d-84f25fa8a994')\"\n",
              "            title=\"Convert this dataframe to an interactive table.\"\n",
              "            style=\"display:none;\">\n",
              "\n",
              "  <svg xmlns=\"http://www.w3.org/2000/svg\" height=\"24px\" viewBox=\"0 -960 960 960\">\n",
              "    <path d=\"M120-120v-720h720v720H120Zm60-500h600v-160H180v160Zm220 220h160v-160H400v160Zm0 220h160v-160H400v160ZM180-400h160v-160H180v160Zm440 0h160v-160H620v160ZM180-180h160v-160H180v160Zm440 0h160v-160H620v160Z\"/>\n",
              "  </svg>\n",
              "    </button>\n",
              "\n",
              "  <style>\n",
              "    .colab-df-container {\n",
              "      display:flex;\n",
              "      gap: 12px;\n",
              "    }\n",
              "\n",
              "    .colab-df-convert {\n",
              "      background-color: #E8F0FE;\n",
              "      border: none;\n",
              "      border-radius: 50%;\n",
              "      cursor: pointer;\n",
              "      display: none;\n",
              "      fill: #1967D2;\n",
              "      height: 32px;\n",
              "      padding: 0 0 0 0;\n",
              "      width: 32px;\n",
              "    }\n",
              "\n",
              "    .colab-df-convert:hover {\n",
              "      background-color: #E2EBFA;\n",
              "      box-shadow: 0px 1px 2px rgba(60, 64, 67, 0.3), 0px 1px 3px 1px rgba(60, 64, 67, 0.15);\n",
              "      fill: #174EA6;\n",
              "    }\n",
              "\n",
              "    .colab-df-buttons div {\n",
              "      margin-bottom: 4px;\n",
              "    }\n",
              "\n",
              "    [theme=dark] .colab-df-convert {\n",
              "      background-color: #3B4455;\n",
              "      fill: #D2E3FC;\n",
              "    }\n",
              "\n",
              "    [theme=dark] .colab-df-convert:hover {\n",
              "      background-color: #434B5C;\n",
              "      box-shadow: 0px 1px 3px 1px rgba(0, 0, 0, 0.15);\n",
              "      filter: drop-shadow(0px 1px 2px rgba(0, 0, 0, 0.3));\n",
              "      fill: #FFFFFF;\n",
              "    }\n",
              "  </style>\n",
              "\n",
              "    <script>\n",
              "      const buttonEl =\n",
              "        document.querySelector('#df-e752e5c3-a848-4acf-803d-84f25fa8a994 button.colab-df-convert');\n",
              "      buttonEl.style.display =\n",
              "        google.colab.kernel.accessAllowed ? 'block' : 'none';\n",
              "\n",
              "      async function convertToInteractive(key) {\n",
              "        const element = document.querySelector('#df-e752e5c3-a848-4acf-803d-84f25fa8a994');\n",
              "        const dataTable =\n",
              "          await google.colab.kernel.invokeFunction('convertToInteractive',\n",
              "                                                    [key], {});\n",
              "        if (!dataTable) return;\n",
              "\n",
              "        const docLinkHtml = 'Like what you see? Visit the ' +\n",
              "          '<a target=\"_blank\" href=https://colab.research.google.com/notebooks/data_table.ipynb>data table notebook</a>'\n",
              "          + ' to learn more about interactive tables.';\n",
              "        element.innerHTML = '';\n",
              "        dataTable['output_type'] = 'display_data';\n",
              "        await google.colab.output.renderOutput(dataTable, element);\n",
              "        const docLink = document.createElement('div');\n",
              "        docLink.innerHTML = docLinkHtml;\n",
              "        element.appendChild(docLink);\n",
              "      }\n",
              "    </script>\n",
              "  </div>\n",
              "\n",
              "\n",
              "<div id=\"df-cbfac4fe-bb2f-48b8-9c8d-c03659236f80\">\n",
              "  <button class=\"colab-df-quickchart\" onclick=\"quickchart('df-cbfac4fe-bb2f-48b8-9c8d-c03659236f80')\"\n",
              "            title=\"Suggest charts\"\n",
              "            style=\"display:none;\">\n",
              "\n",
              "<svg xmlns=\"http://www.w3.org/2000/svg\" height=\"24px\"viewBox=\"0 0 24 24\"\n",
              "     width=\"24px\">\n",
              "    <g>\n",
              "        <path d=\"M19 3H5c-1.1 0-2 .9-2 2v14c0 1.1.9 2 2 2h14c1.1 0 2-.9 2-2V5c0-1.1-.9-2-2-2zM9 17H7v-7h2v7zm4 0h-2V7h2v10zm4 0h-2v-4h2v4z\"/>\n",
              "    </g>\n",
              "</svg>\n",
              "  </button>\n",
              "\n",
              "<style>\n",
              "  .colab-df-quickchart {\n",
              "      --bg-color: #E8F0FE;\n",
              "      --fill-color: #1967D2;\n",
              "      --hover-bg-color: #E2EBFA;\n",
              "      --hover-fill-color: #174EA6;\n",
              "      --disabled-fill-color: #AAA;\n",
              "      --disabled-bg-color: #DDD;\n",
              "  }\n",
              "\n",
              "  [theme=dark] .colab-df-quickchart {\n",
              "      --bg-color: #3B4455;\n",
              "      --fill-color: #D2E3FC;\n",
              "      --hover-bg-color: #434B5C;\n",
              "      --hover-fill-color: #FFFFFF;\n",
              "      --disabled-bg-color: #3B4455;\n",
              "      --disabled-fill-color: #666;\n",
              "  }\n",
              "\n",
              "  .colab-df-quickchart {\n",
              "    background-color: var(--bg-color);\n",
              "    border: none;\n",
              "    border-radius: 50%;\n",
              "    cursor: pointer;\n",
              "    display: none;\n",
              "    fill: var(--fill-color);\n",
              "    height: 32px;\n",
              "    padding: 0;\n",
              "    width: 32px;\n",
              "  }\n",
              "\n",
              "  .colab-df-quickchart:hover {\n",
              "    background-color: var(--hover-bg-color);\n",
              "    box-shadow: 0 1px 2px rgba(60, 64, 67, 0.3), 0 1px 3px 1px rgba(60, 64, 67, 0.15);\n",
              "    fill: var(--button-hover-fill-color);\n",
              "  }\n",
              "\n",
              "  .colab-df-quickchart-complete:disabled,\n",
              "  .colab-df-quickchart-complete:disabled:hover {\n",
              "    background-color: var(--disabled-bg-color);\n",
              "    fill: var(--disabled-fill-color);\n",
              "    box-shadow: none;\n",
              "  }\n",
              "\n",
              "  .colab-df-spinner {\n",
              "    border: 2px solid var(--fill-color);\n",
              "    border-color: transparent;\n",
              "    border-bottom-color: var(--fill-color);\n",
              "    animation:\n",
              "      spin 1s steps(1) infinite;\n",
              "  }\n",
              "\n",
              "  @keyframes spin {\n",
              "    0% {\n",
              "      border-color: transparent;\n",
              "      border-bottom-color: var(--fill-color);\n",
              "      border-left-color: var(--fill-color);\n",
              "    }\n",
              "    20% {\n",
              "      border-color: transparent;\n",
              "      border-left-color: var(--fill-color);\n",
              "      border-top-color: var(--fill-color);\n",
              "    }\n",
              "    30% {\n",
              "      border-color: transparent;\n",
              "      border-left-color: var(--fill-color);\n",
              "      border-top-color: var(--fill-color);\n",
              "      border-right-color: var(--fill-color);\n",
              "    }\n",
              "    40% {\n",
              "      border-color: transparent;\n",
              "      border-right-color: var(--fill-color);\n",
              "      border-top-color: var(--fill-color);\n",
              "    }\n",
              "    60% {\n",
              "      border-color: transparent;\n",
              "      border-right-color: var(--fill-color);\n",
              "    }\n",
              "    80% {\n",
              "      border-color: transparent;\n",
              "      border-right-color: var(--fill-color);\n",
              "      border-bottom-color: var(--fill-color);\n",
              "    }\n",
              "    90% {\n",
              "      border-color: transparent;\n",
              "      border-bottom-color: var(--fill-color);\n",
              "    }\n",
              "  }\n",
              "</style>\n",
              "\n",
              "  <script>\n",
              "    async function quickchart(key) {\n",
              "      const quickchartButtonEl =\n",
              "        document.querySelector('#' + key + ' button');\n",
              "      quickchartButtonEl.disabled = true;  // To prevent multiple clicks.\n",
              "      quickchartButtonEl.classList.add('colab-df-spinner');\n",
              "      try {\n",
              "        const charts = await google.colab.kernel.invokeFunction(\n",
              "            'suggestCharts', [key], {});\n",
              "      } catch (error) {\n",
              "        console.error('Error during call to suggestCharts:', error);\n",
              "      }\n",
              "      quickchartButtonEl.classList.remove('colab-df-spinner');\n",
              "      quickchartButtonEl.classList.add('colab-df-quickchart-complete');\n",
              "    }\n",
              "    (() => {\n",
              "      let quickchartButtonEl =\n",
              "        document.querySelector('#df-cbfac4fe-bb2f-48b8-9c8d-c03659236f80 button');\n",
              "      quickchartButtonEl.style.display =\n",
              "        google.colab.kernel.accessAllowed ? 'block' : 'none';\n",
              "    })();\n",
              "  </script>\n",
              "</div>\n",
              "    </div>\n",
              "  </div>\n"
            ]
          },
          "metadata": {},
          "execution_count": 60
        }
      ]
    },
    {
      "cell_type": "code",
      "source": [
        "print(df_0_series['operations'].value_counts())\n",
        "print('Количество уникальных операций в ДЕНЬ-0: ', len(df_0_series['operations'].value_counts()))"
      ],
      "metadata": {
        "colab": {
          "base_uri": "https://localhost:8080/"
        },
        "id": "a8aHMgdM72RZ",
        "outputId": "20737997-40f7-43b2-8114-7a44e41dccb7"
      },
      "execution_count": null,
      "outputs": [
        {
          "output_type": "stream",
          "name": "stdout",
          "text": [
            "[{'name': 'nagrev', 'timing': 96}, {'name': 'otzhig', 'timing': 15}]                                     11\n",
            "[{'name': 'nagrev', 'timing': 279}, {'name': 'prokat', 'timing': 15}]                                    11\n",
            "[{'name': 'nagrev', 'timing': 157}, {'name': 'prokat', 'timing': 15}]                                    10\n",
            "[{'name': 'nagrev', 'timing': 217}, {'name': 'otzhig', 'timing': 15}]                                     9\n",
            "[{'name': 'nagrev', 'timing': 279}, {'name': 'otzhig', 'timing': 15}]                                     9\n",
            "                                                                                                         ..\n",
            "[{'name': 'nagrev', 'timing': 219}, {'name': 'kovka', 'timing': 20}]                                      1\n",
            "[{'name': 'nagrev', 'timing': 54}, {'name': 'kovka', 'timing': 15}]                                       1\n",
            "[{'name': 'nagrev', 'timing': 159}, {'name': 'kovka', 'timing': 10}]                                      1\n",
            "[{'name': 'nagrev', 'timing': 83}, {'name': 'kovka', 'timing': 20}, {'name': 'kovka', 'timing': 20}]      1\n",
            "[{'name': 'nagrev', 'timing': 274}, {'name': 'kovka', 'timing': 20}, {'name': 'kovka', 'timing': 15}]     1\n",
            "Name: operations, Length: 1206, dtype: int64\n",
            "Количество уникальных операций в ДЕНЬ-0:  1206\n"
          ]
        }
      ]
    },
    {
      "cell_type": "code",
      "source": [
        "print(df_1_series['operations'].value_counts())\n",
        "print('Количество уникальных операций в ДЕНЬ-1: ', len(df_1_series['operations'].value_counts()))"
      ],
      "metadata": {
        "colab": {
          "base_uri": "https://localhost:8080/"
        },
        "id": "EvyzwOyx72S2",
        "outputId": "5bef022f-1e3b-4799-cedd-745645ac86f3"
      },
      "execution_count": null,
      "outputs": [
        {
          "output_type": "stream",
          "name": "stdout",
          "text": [
            "[{'name': 'nagrev', 'timing': 293}, {'name': 'otzhig', 'timing': 15}]                                                                    7\n",
            "[{'name': 'nagrev', 'timing': 96}, {'name': 'otzhig', 'timing': 15}]                                                                     7\n",
            "[{'name': 'nagrev', 'timing': 157}, {'name': 'prokat', 'timing': 15}]                                                                    7\n",
            "[{'name': 'nagrev', 'timing': 253}, {'name': 'otzhig', 'timing': 15}]                                                                    6\n",
            "[{'name': 'nagrev', 'timing': 270}, {'name': 'prokat', 'timing': 15}]                                                                    6\n",
            "                                                                                                                                        ..\n",
            "[{'name': 'nagrev', 'timing': 65}, {'name': 'kovka', 'timing': 10}, {'name': 'kovka', 'timing': 15}]                                     1\n",
            "[{'name': 'nagrev', 'timing': 145}, {'name': 'otzhig', 'timing': 15}]                                                                    1\n",
            "[{'name': 'nagrev', 'timing': 36}, {'name': 'kovka', 'timing': 10}, {'name': 'kovka', 'timing': 15}, {'name': 'kovka', 'timing': 15}]    1\n",
            "[{'name': 'nagrev', 'timing': 134}, {'name': 'kovka', 'timing': 10}, {'name': 'kovka', 'timing': 20}]                                    1\n",
            "[{'name': 'nagrev', 'timing': 134}, {'name': 'kovka', 'timing': 15}, {'name': 'kovka', 'timing': 20}]                                    1\n",
            "Name: operations, Length: 947, dtype: int64\n",
            "Количество уникальных операций в ДЕНЬ-1:  947\n"
          ]
        }
      ]
    },
    {
      "cell_type": "markdown",
      "source": [
        "**Визуализация в пределах одного дня распределения температуры обработки серии:**"
      ],
      "metadata": {
        "id": "jcpgCf_aDjJ0"
      }
    },
    {
      "cell_type": "code",
      "source": [
        "df_0_series['temperature'].value_counts().plot(kind=\"bar\",\n",
        "                                               title=\"День 0\")"
      ],
      "metadata": {
        "colab": {
          "base_uri": "https://localhost:8080/",
          "height": 497
        },
        "id": "hW5rdX9S72UD",
        "outputId": "23fe82c5-3d14-46d4-8932-c4af3975ab4d"
      },
      "execution_count": null,
      "outputs": [
        {
          "output_type": "execute_result",
          "data": {
            "text/plain": [
              "<Axes: title={'center': 'День 0'}>"
            ]
          },
          "metadata": {},
          "execution_count": 69
        },
        {
          "output_type": "display_data",
          "data": {
            "text/plain": [
              "<Figure size 640x480 with 1 Axes>"
            ],
            "image/png": "[encoded data removed]"
          },
          "metadata": {}
        }
      ]
    },
    {
      "cell_type": "code",
      "source": [
        "df_1_series['temperature'].value_counts().plot(kind=\"bar\",\n",
        "                                               title=\"День 1\")"
      ],
      "metadata": {
        "colab": {
          "base_uri": "https://localhost:8080/",
          "height": 497
        },
        "id": "xp2JPataDTpT",
        "outputId": "d3d33fba-bde3-450d-8643-98e9ba1f5143"
      },
      "execution_count": null,
      "outputs": [
        {
          "output_type": "execute_result",
          "data": {
            "text/plain": [
              "<Axes: title={'center': 'День 1'}>"
            ]
          },
          "metadata": {},
          "execution_count": 71
        },
        {
          "output_type": "display_data",
          "data": {
            "text/plain": [
              "<Figure size 640x480 with 1 Axes>"
            ],
            "image/png": "[encoded data removed]"
          },
          "metadata": {}
        }
      ]
    },
    {
      "cell_type": "code",
      "source": [
        "df_2_series['temperature'].value_counts().plot(kind=\"bar\",\n",
        "                                               title=\"День 2\")"
      ],
      "metadata": {
        "colab": {
          "base_uri": "https://localhost:8080/",
          "height": 497
        },
        "id": "Dm4IZ7aQBk0o",
        "outputId": "e251a14e-59de-4452-da19-db1f060a1571"
      },
      "execution_count": null,
      "outputs": [
        {
          "output_type": "execute_result",
          "data": {
            "text/plain": [
              "<Axes: title={'center': 'День 2'}>"
            ]
          },
          "metadata": {},
          "execution_count": 72
        },
        {
          "output_type": "display_data",
          "data": {
            "text/plain": [
              "<Figure size 640x480 with 1 Axes>"
            ],
            "image/png": "[encoded data removed]"
          },
          "metadata": {}
        }
      ]
    },
    {
      "cell_type": "markdown",
      "source": [
        "**Визуализация в пределах одного дня распределения стартовой температуры обработки в печи:**"
      ],
      "metadata": {
        "id": "vIK1fjLDD38b"
      }
    },
    {
      "cell_type": "code",
      "source": [
        "df_0_ovens.head()"
      ],
      "metadata": {
        "colab": {
          "base_uri": "https://localhost:8080/",
          "height": 206
        },
        "id": "nBiJ5OYyBk_O",
        "outputId": "b38d293e-4073-4753-ed11-509dfb8ae6f4"
      },
      "execution_count": null,
      "outputs": [
        {
          "output_type": "execute_result",
          "data": {
            "text/plain": [
              "   start_temp                                      working_temps  \\\n",
              "0        1220  [960, 1030, 1190, 1100, 1230, 1070, 1110, 1080...   \n",
              "1         990                       [980, 1190, 1030, 1100, 990]   \n",
              "2        1220                                  [970, 1060, 1220]   \n",
              "3        1020               [1060, 1100, 1140, 1240, 1150, 1020]   \n",
              "4        1020            [970, 1100, 1070, 980, 1180, 990, 1020]   \n",
              "\n",
              "        operations  \n",
              "0  [prokat, kovka]  \n",
              "1  [otzhig, kovka]  \n",
              "2         [otzhig]  \n",
              "3          [kovka]  \n",
              "4         [otzhig]  "
            ],
            "text/html": [
              "\n",
              "  <div id=\"df-27395227-afcb-487e-b86c-8cffaa9dd3b6\" class=\"colab-df-container\">\n",
              "    <div>\n",
              "<style scoped>\n",
              "    .dataframe tbody tr th:only-of-type {\n",
              "        vertical-align: middle;\n",
              "    }\n",
              "\n",
              "    .dataframe tbody tr th {\n",
              "        vertical-align: top;\n",
              "    }\n",
              "\n",
              "    .dataframe thead th {\n",
              "        text-align: right;\n",
              "    }\n",
              "</style>\n",
              "<table border=\"1\" class=\"dataframe\">\n",
              "  <thead>\n",
              "    <tr style=\"text-align: right;\">\n",
              "      <th></th>\n",
              "      <th>start_temp</th>\n",
              "      <th>working_temps</th>\n",
              "      <th>operations</th>\n",
              "    </tr>\n",
              "  </thead>\n",
              "  <tbody>\n",
              "    <tr>\n",
              "      <th>0</th>\n",
              "      <td>1220</td>\n",
              "      <td>[960, 1030, 1190, 1100, 1230, 1070, 1110, 1080...</td>\n",
              "      <td>[prokat, kovka]</td>\n",
              "    </tr>\n",
              "    <tr>\n",
              "      <th>1</th>\n",
              "      <td>990</td>\n",
              "      <td>[980, 1190, 1030, 1100, 990]</td>\n",
              "      <td>[otzhig, kovka]</td>\n",
              "    </tr>\n",
              "    <tr>\n",
              "      <th>2</th>\n",
              "      <td>1220</td>\n",
              "      <td>[970, 1060, 1220]</td>\n",
              "      <td>[otzhig]</td>\n",
              "    </tr>\n",
              "    <tr>\n",
              "      <th>3</th>\n",
              "      <td>1020</td>\n",
              "      <td>[1060, 1100, 1140, 1240, 1150, 1020]</td>\n",
              "      <td>[kovka]</td>\n",
              "    </tr>\n",
              "    <tr>\n",
              "      <th>4</th>\n",
              "      <td>1020</td>\n",
              "      <td>[970, 1100, 1070, 980, 1180, 990, 1020]</td>\n",
              "      <td>[otzhig]</td>\n",
              "    </tr>\n",
              "  </tbody>\n",
              "</table>\n",
              "</div>\n",
              "    <div class=\"colab-df-buttons\">\n",
              "\n",
              "  <div class=\"colab-df-container\">\n",
              "    <button class=\"colab-df-convert\" onclick=\"convertToInteractive('df-27395227-afcb-487e-b86c-8cffaa9dd3b6')\"\n",
              "            title=\"Convert this dataframe to an interactive table.\"\n",
              "            style=\"display:none;\">\n",
              "\n",
              "  <svg xmlns=\"http://www.w3.org/2000/svg\" height=\"24px\" viewBox=\"0 -960 960 960\">\n",
              "    <path d=\"M120-120v-720h720v720H120Zm60-500h600v-160H180v160Zm220 220h160v-160H400v160Zm0 220h160v-160H400v160ZM180-400h160v-160H180v160Zm440 0h160v-160H620v160ZM180-180h160v-160H180v160Zm440 0h160v-160H620v160Z\"/>\n",
              "  </svg>\n",
              "    </button>\n",
              "\n",
              "  <style>\n",
              "    .colab-df-container {\n",
              "      display:flex;\n",
              "      gap: 12px;\n",
              "    }\n",
              "\n",
              "    .colab-df-convert {\n",
              "      background-color: #E8F0FE;\n",
              "      border: none;\n",
              "      border-radius: 50%;\n",
              "      cursor: pointer;\n",
              "      display: none;\n",
              "      fill: #1967D2;\n",
              "      height: 32px;\n",
              "      padding: 0 0 0 0;\n",
              "      width: 32px;\n",
              "    }\n",
              "\n",
              "    .colab-df-convert:hover {\n",
              "      background-color: #E2EBFA;\n",
              "      box-shadow: 0px 1px 2px rgba(60, 64, 67, 0.3), 0px 1px 3px 1px rgba(60, 64, 67, 0.15);\n",
              "      fill: #174EA6;\n",
              "    }\n",
              "\n",
              "    .colab-df-buttons div {\n",
              "      margin-bottom: 4px;\n",
              "    }\n",
              "\n",
              "    [theme=dark] .colab-df-convert {\n",
              "      background-color: #3B4455;\n",
              "      fill: #D2E3FC;\n",
              "    }\n",
              "\n",
              "    [theme=dark] .colab-df-convert:hover {\n",
              "      background-color: #434B5C;\n",
              "      box-shadow: 0px 1px 3px 1px rgba(0, 0, 0, 0.15);\n",
              "      filter: drop-shadow(0px 1px 2px rgba(0, 0, 0, 0.3));\n",
              "      fill: #FFFFFF;\n",
              "    }\n",
              "  </style>\n",
              "\n",
              "    <script>\n",
              "      const buttonEl =\n",
              "        document.querySelector('#df-27395227-afcb-487e-b86c-8cffaa9dd3b6 button.colab-df-convert');\n",
              "      buttonEl.style.display =\n",
              "        google.colab.kernel.accessAllowed ? 'block' : 'none';\n",
              "\n",
              "      async function convertToInteractive(key) {\n",
              "        const element = document.querySelector('#df-27395227-afcb-487e-b86c-8cffaa9dd3b6');\n",
              "        const dataTable =\n",
              "          await google.colab.kernel.invokeFunction('convertToInteractive',\n",
              "                                                    [key], {});\n",
              "        if (!dataTable) return;\n",
              "\n",
              "        const docLinkHtml = 'Like what you see? Visit the ' +\n",
              "          '<a target=\"_blank\" href=https://colab.research.google.com/notebooks/data_table.ipynb>data table notebook</a>'\n",
              "          + ' to learn more about interactive tables.';\n",
              "        element.innerHTML = '';\n",
              "        dataTable['output_type'] = 'display_data';\n",
              "        await google.colab.output.renderOutput(dataTable, element);\n",
              "        const docLink = document.createElement('div');\n",
              "        docLink.innerHTML = docLinkHtml;\n",
              "        element.appendChild(docLink);\n",
              "      }\n",
              "    </script>\n",
              "  </div>\n",
              "\n",
              "\n",
              "<div id=\"df-0db7fefc-c3c9-45de-a6b5-026e1736141c\">\n",
              "  <button class=\"colab-df-quickchart\" onclick=\"quickchart('df-0db7fefc-c3c9-45de-a6b5-026e1736141c')\"\n",
              "            title=\"Suggest charts\"\n",
              "            style=\"display:none;\">\n",
              "\n",
              "<svg xmlns=\"http://www.w3.org/2000/svg\" height=\"24px\"viewBox=\"0 0 24 24\"\n",
              "     width=\"24px\">\n",
              "    <g>\n",
              "        <path d=\"M19 3H5c-1.1 0-2 .9-2 2v14c0 1.1.9 2 2 2h14c1.1 0 2-.9 2-2V5c0-1.1-.9-2-2-2zM9 17H7v-7h2v7zm4 0h-2V7h2v10zm4 0h-2v-4h2v4z\"/>\n",
              "    </g>\n",
              "</svg>\n",
              "  </button>\n",
              "\n",
              "<style>\n",
              "  .colab-df-quickchart {\n",
              "      --bg-color: #E8F0FE;\n",
              "      --fill-color: #1967D2;\n",
              "      --hover-bg-color: #E2EBFA;\n",
              "      --hover-fill-color: #174EA6;\n",
              "      --disabled-fill-color: #AAA;\n",
              "      --disabled-bg-color: #DDD;\n",
              "  }\n",
              "\n",
              "  [theme=dark] .colab-df-quickchart {\n",
              "      --bg-color: #3B4455;\n",
              "      --fill-color: #D2E3FC;\n",
              "      --hover-bg-color: #434B5C;\n",
              "      --hover-fill-color: #FFFFFF;\n",
              "      --disabled-bg-color: #3B4455;\n",
              "      --disabled-fill-color: #666;\n",
              "  }\n",
              "\n",
              "  .colab-df-quickchart {\n",
              "    background-color: var(--bg-color);\n",
              "    border: none;\n",
              "    border-radius: 50%;\n",
              "    cursor: pointer;\n",
              "    display: none;\n",
              "    fill: var(--fill-color);\n",
              "    height: 32px;\n",
              "    padding: 0;\n",
              "    width: 32px;\n",
              "  }\n",
              "\n",
              "  .colab-df-quickchart:hover {\n",
              "    background-color: var(--hover-bg-color);\n",
              "    box-shadow: 0 1px 2px rgba(60, 64, 67, 0.3), 0 1px 3px 1px rgba(60, 64, 67, 0.15);\n",
              "    fill: var(--button-hover-fill-color);\n",
              "  }\n",
              "\n",
              "  .colab-df-quickchart-complete:disabled,\n",
              "  .colab-df-quickchart-complete:disabled:hover {\n",
              "    background-color: var(--disabled-bg-color);\n",
              "    fill: var(--disabled-fill-color);\n",
              "    box-shadow: none;\n",
              "  }\n",
              "\n",
              "  .colab-df-spinner {\n",
              "    border: 2px solid var(--fill-color);\n",
              "    border-color: transparent;\n",
              "    border-bottom-color: var(--fill-color);\n",
              "    animation:\n",
              "      spin 1s steps(1) infinite;\n",
              "  }\n",
              "\n",
              "  @keyframes spin {\n",
              "    0% {\n",
              "      border-color: transparent;\n",
              "      border-bottom-color: var(--fill-color);\n",
              "      border-left-color: var(--fill-color);\n",
              "    }\n",
              "    20% {\n",
              "      border-color: transparent;\n",
              "      border-left-color: var(--fill-color);\n",
              "      border-top-color: var(--fill-color);\n",
              "    }\n",
              "    30% {\n",
              "      border-color: transparent;\n",
              "      border-left-color: var(--fill-color);\n",
              "      border-top-color: var(--fill-color);\n",
              "      border-right-color: var(--fill-color);\n",
              "    }\n",
              "    40% {\n",
              "      border-color: transparent;\n",
              "      border-right-color: var(--fill-color);\n",
              "      border-top-color: var(--fill-color);\n",
              "    }\n",
              "    60% {\n",
              "      border-color: transparent;\n",
              "      border-right-color: var(--fill-color);\n",
              "    }\n",
              "    80% {\n",
              "      border-color: transparent;\n",
              "      border-right-color: var(--fill-color);\n",
              "      border-bottom-color: var(--fill-color);\n",
              "    }\n",
              "    90% {\n",
              "      border-color: transparent;\n",
              "      border-bottom-color: var(--fill-color);\n",
              "    }\n",
              "  }\n",
              "</style>\n",
              "\n",
              "  <script>\n",
              "    async function quickchart(key) {\n",
              "      const quickchartButtonEl =\n",
              "        document.querySelector('#' + key + ' button');\n",
              "      quickchartButtonEl.disabled = true;  // To prevent multiple clicks.\n",
              "      quickchartButtonEl.classList.add('colab-df-spinner');\n",
              "      try {\n",
              "        const charts = await google.colab.kernel.invokeFunction(\n",
              "            'suggestCharts', [key], {});\n",
              "      } catch (error) {\n",
              "        console.error('Error during call to suggestCharts:', error);\n",
              "      }\n",
              "      quickchartButtonEl.classList.remove('colab-df-spinner');\n",
              "      quickchartButtonEl.classList.add('colab-df-quickchart-complete');\n",
              "    }\n",
              "    (() => {\n",
              "      let quickchartButtonEl =\n",
              "        document.querySelector('#df-0db7fefc-c3c9-45de-a6b5-026e1736141c button');\n",
              "      quickchartButtonEl.style.display =\n",
              "        google.colab.kernel.accessAllowed ? 'block' : 'none';\n",
              "    })();\n",
              "  </script>\n",
              "</div>\n",
              "    </div>\n",
              "  </div>\n"
            ]
          },
          "metadata": {},
          "execution_count": 74
        }
      ]
    },
    {
      "cell_type": "code",
      "source": [
        "df_0_ovens['start_temp'].value_counts().plot(kind=\"bar\",\n",
        "                                             title=\"День 0\")"
      ],
      "metadata": {
        "colab": {
          "base_uri": "https://localhost:8080/",
          "height": 497
        },
        "id": "G9s_2XReD5-B",
        "outputId": "ce14ca03-18d1-4877-92f7-1953f84c1ae0"
      },
      "execution_count": null,
      "outputs": [
        {
          "output_type": "execute_result",
          "data": {
            "text/plain": [
              "<Axes: title={'center': 'День 0'}>"
            ]
          },
          "metadata": {},
          "execution_count": 75
        },
        {
          "output_type": "display_data",
          "data": {
            "text/plain": [
              "<Figure size 640x480 with 1 Axes>"
            ],
            "image/png": "[encoded data removed]"
          },
          "metadata": {}
        }
      ]
    },
    {
      "cell_type": "code",
      "source": [
        "df_1_ovens['start_temp'].value_counts().plot(kind=\"bar\",\n",
        "                                             title=\"День 1\")"
      ],
      "metadata": {
        "colab": {
          "base_uri": "https://localhost:8080/",
          "height": 497
        },
        "id": "MTxWarp2BlFw",
        "outputId": "6898ed5f-ae25-4835-d099-57000b949b23"
      },
      "execution_count": null,
      "outputs": [
        {
          "output_type": "execute_result",
          "data": {
            "text/plain": [
              "<Axes: title={'center': 'День 1'}>"
            ]
          },
          "metadata": {},
          "execution_count": 76
        },
        {
          "output_type": "display_data",
          "data": {
            "text/plain": [
              "<Figure size 640x480 with 1 Axes>"
            ],
            "image/png": "[encoded data removed]"
          },
          "metadata": {}
        }
      ]
    },
    {
      "cell_type": "code",
      "source": [
        "df_2_ovens['start_temp'].value_counts().plot(kind=\"bar\",\n",
        "                                             title=\"День 2\")"
      ],
      "metadata": {
        "colab": {
          "base_uri": "https://localhost:8080/",
          "height": 497
        },
        "id": "MHiRG-lvEv7c",
        "outputId": "001f2342-8402-4c31-c5d4-2366c96a3f3e"
      },
      "execution_count": null,
      "outputs": [
        {
          "output_type": "execute_result",
          "data": {
            "text/plain": [
              "<Axes: title={'center': 'День 2'}>"
            ]
          },
          "metadata": {},
          "execution_count": 77
        },
        {
          "output_type": "display_data",
          "data": {
            "text/plain": [
              "<Figure size 640x480 with 1 Axes>"
            ],
            "image/png": "[encoded data removed]"
          },
          "metadata": {}
        }
      ]
    },
    {
      "cell_type": "code",
      "execution_count": null,
      "metadata": {
        "id": "MWP1hVjDKTdj"
      },
      "outputs": [],
      "source": [
        "# сохраняем датасеты в файлы для последующего обучения модели\n",
        "draft_model_fact.to_csv(\"draft_model_fact.csv\", index=True, sep=\";\", decimal=\",\", encoding=\"windows-1251\")"
      ]
    },
    {
      "cell_type": "code",
      "execution_count": null,
      "metadata": {
        "id": "xZfd5ZQS8dDz"
      },
      "outputs": [],
      "source": [
        "# сохраняем датасеты в файлы для последующего тестирования обученной модели\n",
        "draft_model_fact.to_csv(\"draft_model_high.csv\", index=True, sep=\";\", decimal=\",\", encoding=\"windows-1251\")\n",
        "draft_model_fact.to_csv(\"draft_model_low.csv\", index=True, sep=\";\", decimal=\",\", encoding=\"windows-1251\")"
      ]
    },
    {
      "cell_type": "code",
      "execution_count": null,
      "metadata": {
        "colab": {
          "base_uri": "https://localhost:8080/"
        },
        "id": "N429Xq9D8qjT",
        "outputId": "82aa68a7-6293-4e2f-ce4e-b21b8015aa8c"
      },
      "outputs": [
        {
          "data": {
            "text/plain": [
              "(92325, 20)"
            ]
          },
          "execution_count": 75,
          "metadata": {},
          "output_type": "execute_result"
        }
      ],
      "source": [
        "# проверка сохранения файла с датасетом:\n",
        "df_test = pd.read_csv(\"draft_model_fact.csv\", sep=\";\", decimal=\",\", encoding=\"windows-1251\")\n",
        "df_test.shape"
      ]
    },
    {
      "cell_type": "markdown",
      "metadata": {
        "id": "Nw6EuBM7gVyp"
      },
      "source": [
        "# **ЗАВЕРШЕНИЕ EDA**"
      ]
    }
  ],
  "metadata": {
    "colab": {
      "provenance": []
    },
    "kernelspec": {
      "display_name": "Python 3",
      "name": "python3"
    },
    "language_info": {
      "name": "python"
    }
  },
  "nbformat": 4,
  "nbformat_minor": 0
}